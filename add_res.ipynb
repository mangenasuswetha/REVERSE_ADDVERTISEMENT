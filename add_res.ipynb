{
 "cells": [
  {
   "cell_type": "code",
   "execution_count": null,
   "id": "64d8961a",
   "metadata": {},
   "outputs": [],
   "source": [
    "import pandas as pd\n",
    "import numpy as np\n",
    "dominos = pd.read_csv(\"C:/Users/user/Documents/Dominos.csv\")\n",
    "from scipy import stats\n",
    "stats.ttest_rel(dominos.Open,dominos.Close) \n",
    "import matplotlib.pyplot as plt\n",
    "plt.boxplot(dominos.Open)\n",
    "plt.boxplot(dominos.Close)\n"
   ]
  }
 ],
 "metadata": {
  "kernelspec": {
   "display_name": "Python 3 (ipykernel)",
   "language": "python",
   "name": "python3"
  },
  "language_info": {
   "codemirror_mode": {
    "name": "ipython",
    "version": 3
   },
   "file_extension": ".py",
   "mimetype": "text/x-python",
   "name": "python",
   "nbconvert_exporter": "python",
   "pygments_lexer": "ipython3",
   "version": "3.9.7"
  }
 },
 "nbformat": 4,
 "nbformat_minor": 5
}
